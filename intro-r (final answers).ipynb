{
 "cells": [
  {
   "cell_type": "markdown",
   "metadata": {},
   "source": [
    "<a href=\"https://cognitiveclass.ai/?utm_medium=Exinfluencer&utm_source=Exinfluencer&utm_content=000026UJ&utm_term=10006555&utm_id=NA-SkillsNetwork-Channel-SkillsNetworkCoursesIBMDeveloperSkillsNetworkRP0101ENCoursera23911160-2021-01-01\">\n",
    "    <img src=\"https://cf-courses-data.s3.us.cloud-object-storage.appdomain.cloud/IBMDeveloperSkillsNetwork-RP0101EN-Coursera/v2/M1_R_Basics/images/IDSNlogo.png\" width=\"200\" align=\"center\">\n",
    "</a>\n"
   ]
  },
  {
   "cell_type": "markdown",
   "metadata": {},
   "source": [
    "<h1>Analysis of Global COVID-19 Pandemic Data</h1>\n",
    "\n",
    "Estimated time needed: **90** minutes\n"
   ]
  },
  {
   "cell_type": "markdown",
   "metadata": {},
   "source": [
    "## Overview:\n",
    "\n",
    "There are 10 tasks in this final project. All tasks will be graded by your peers who are also completing this assignment within the same session.\n",
    "\n",
    "You need to submit the following the screenshot for the code and output for each task for review.\n",
    "\n",
    "If you need to refresh your memories about specific coding details, you may refer to previous hands-on labs for code examples.\n"
   ]
  },
  {
   "cell_type": "code",
   "execution_count": 27,
   "metadata": {},
   "outputs": [],
   "source": [
    "require(\"httr\")\n",
    "require(\"rvest\")\n",
    "\n",
    "library(httr)\n",
    "library(rvest)"
   ]
  },
  {
   "cell_type": "code",
   "execution_count": 36,
   "metadata": {},
   "outputs": [
    {
     "name": "stderr",
     "output_type": "stream",
     "text": [
      "Updating HTML index of packages in '.Library'\n",
      "Making 'packages.html' ... done\n",
      "Updating HTML index of packages in '.Library'\n",
      "Making 'packages.html' ... done\n"
     ]
    }
   ],
   "source": [
    "install.packages(\"rvest\")\n",
    "install.packages(\"httr\")"
   ]
  },
  {
   "cell_type": "markdown",
   "metadata": {},
   "source": [
    "Note: if you can import above libraries, please use install.packages() to install them first.\n"
   ]
  },
  {
   "cell_type": "markdown",
   "metadata": {},
   "source": [
    "## TASK 1: Get a `COVID-19 pandemic` Wiki page using HTTP request\n"
   ]
  },
  {
   "cell_type": "markdown",
   "metadata": {},
   "source": [
    "First, let's write a function to use HTTP request to get a public COVID-19 Wiki page.\n",
    "\n",
    "Before you write the function, you can open this public page from this\n",
    "\n",
    "URL [https://en.wikipedia.org/w/index.php?title=Template\\:COVID-19\\_testing_by_country](https://en.wikipedia.org/w/index.php?utm_medium=Exinfluencer&utm_source=Exinfluencer&utm_content=000026UJ&utm_term=10006555&utm_id=NA-SkillsNetwork-Channel-SkillsNetworkCoursesIBMDeveloperSkillsNetworkRP0101ENCoursera23911160-2021-01-01&title=Template%3ACOVID-19\\_testing_by_country) using a web browser.\n",
    "\n",
    "The goal of task 1 is to get the html page using HTTP request (`httr` library)\n"
   ]
  },
  {
   "cell_type": "code",
   "execution_count": 51,
   "metadata": {},
   "outputs": [],
   "source": [
    "get_wiki_covid19_page <- function(wiki_base_url, query=query_params){\n",
    "    wiki_base_url <- \"https://en.wikipedia.org/w/index.php\" \n",
    "    \n",
    "    query_params <- list(title = \"Template:COVID-19_testing_by_country\")\n",
    "    \n",
    "    return (response <- GET(wiki_base_url, query=query_params))\n",
    "    \n",
    "}"
   ]
  },
  {
   "cell_type": "code",
   "execution_count": 52,
   "metadata": {},
   "outputs": [
    {
     "data": {
      "text/plain": [
       "Response [https://en.wikipedia.org/w/index.php?title=Template%3ACOVID-19_testing_by_country]\n",
       "  Date: 2021-11-21 05:16\n",
       "  Status: 200\n",
       "  Content-Type: text/html; charset=UTF-8\n",
       "  Size: 409 kB\n",
       "<!DOCTYPE html>\n",
       "<html class=\"client-nojs\" lang=\"en\" dir=\"ltr\">\n",
       "<head>\n",
       "<meta charset=\"UTF-8\"/>\n",
       "<title>Template:COVID-19 testing by country - Wikipedia</title>\n",
       "<script>document.documentElement.className=\"client-js\";RLCONF={\"wgBreakFrames...\n",
       "\"CS1 German-language sources (de)\",\"CS1 Azerbaijani-language sources (az)\",\"C...\n",
       "\"CS1 uses Japanese-language script (ja)\",\"CS1 Japanese-language sources (ja)\"...\n",
       "\"COVID-19 pandemic templates\"],\"wgPageContentLanguage\":\"en\",\"wgPageContentMod...\n",
       "\"wgGENewcomerTasksGuidanceEnabled\":!0,\"wgGEAskQuestionEnabled\":!1,\"wgGELinkRe...\n",
       "..."
      ]
     },
     "metadata": {},
     "output_type": "display_data"
    }
   ],
   "source": [
    "get_wiki <- get_wiki_covid19_page(response)\n",
    "get_wiki"
   ]
  },
  {
   "cell_type": "code",
   "execution_count": 28,
   "metadata": {},
   "outputs": [],
   "source": [
    "\n",
    "get_wiki_covid19_page <- function(wiki_base_url, query=query_params){\n",
    "    \n",
    "  # Our target COVID-19 wiki page URL is: https://en.wikipedia.org/w/index.php?title=Template:COVID-19_testing_by_country  \n",
    "  # Which has two parts: \n",
    "    # 1) base URL `https://en.wikipedia.org/w/index.php  \n",
    "    # 2) URL parameter: `title=Template:COVID-19_testing_by_country`, seperated by question mark ?\n",
    "    \n",
    "  # Wiki page base\n",
    "  wiki_base_url <- \"https://en.wikipedia.org/w/index.php\"\n",
    "    \n",
    "  query_params <- list(title = \"Template:COVID-19_testing_by_country\")\n",
    "    \n",
    "  return (response <- GET(wiki_base_url, query=query_params))\n",
    "\n",
    "  # You will need to create a List which has an element called `title` to specify which page you want to get from Wiki\n",
    "  # in our case, it will be `Template:COVID-19_testing_by_country`\n",
    " \n",
    "  # - Use the `GET` function in httr library with a `url` argument and a `query` arugment to get a HTTP response\n",
    "    \n",
    "  # Use the `return` function to return the response\n",
    "\n",
    "}\n",
    "\n",
    "\n"
   ]
  },
  {
   "cell_type": "markdown",
   "metadata": {},
   "source": [
    "Call the `get_wiki_covid19_page` function to get a http response with the target html page\n"
   ]
  },
  {
   "cell_type": "code",
   "execution_count": 12,
   "metadata": {},
   "outputs": [
    {
     "data": {
      "text/plain": [
       "Response [https://en.wikipedia.org/w/index.php?title=Template%3ACOVID-19_testing_by_country]\n",
       "  Date: 2021-11-21 05:00\n",
       "  Status: 200\n",
       "  Content-Type: text/html; charset=UTF-8\n",
       "  Size: 409 kB\n",
       "<!DOCTYPE html>\n",
       "<html class=\"client-nojs\" lang=\"en\" dir=\"ltr\">\n",
       "<head>\n",
       "<meta charset=\"UTF-8\"/>\n",
       "<title>Template:COVID-19 testing by country - Wikipedia</title>\n",
       "<script>document.documentElement.className=\"client-js\";RLCONF={\"wgBreakFrames...\n",
       "\"CS1 German-language sources (de)\",\"CS1 Azerbaijani-language sources (az)\",\"C...\n",
       "\"CS1 uses Japanese-language script (ja)\",\"CS1 Japanese-language sources (ja)\"...\n",
       "\"COVID-19 pandemic templates\"],\"wgPageContentLanguage\":\"en\",\"wgPageContentMod...\n",
       "\"wgGENewcomerTasksGuidanceEnabled\":!0,\"wgGEAskQuestionEnabled\":!1,\"wgGELinkRe...\n",
       "..."
      ]
     },
     "metadata": {},
     "output_type": "display_data"
    }
   ],
   "source": [
    "# Call the get_wiki_covid19_page function and print the response\n",
    "get_wiki <- get_wiki_covid19_page(response)\n",
    "get_wiki"
   ]
  },
  {
   "cell_type": "markdown",
   "metadata": {},
   "source": [
    "## TASK 2: Extract COVID-19 testing data table from the wiki HTML page\n"
   ]
  },
  {
   "cell_type": "markdown",
   "metadata": {},
   "source": [
    "On the COVID-19 testing wiki page, you should see a data table `<table>` node contains COVID-19 testing data by country on the page:\n",
    "\n",
    "<a href=\"https://cognitiveclass.ai/?utm_medium=Exinfluencer&utm_source=Exinfluencer&utm_content=000026UJ&utm_term=10006555&utm_id=NA-SkillsNetwork-Channel-SkillsNetworkCoursesIBMDeveloperSkillsNetworkRP0101ENCoursera23911160-2021-01-01\">\n",
    "    <img src=\"https://cf-courses-data.s3.us.cloud-object-storage.appdomain.cloud/IBMDeveloperSkillsNetwork-RP0101EN-Coursera/v2/M5_Final/images/covid-19-by-country.png\" width=\"400\" align=\"center\">\n",
    "</a>\n",
    "\n",
    "Note the numbers you actually see on your page may be different from above because it is still an on-going pandemic when creating this notebook.\n",
    "\n",
    "The goal of task 2 is to extract above data table and convert it into a data frame\n"
   ]
  },
  {
   "cell_type": "markdown",
   "metadata": {},
   "source": [
    "Now use the `read_html` function in rvest library to get the root html node from response\n"
   ]
  },
  {
   "cell_type": "code",
   "execution_count": 50,
   "metadata": {},
   "outputs": [],
   "source": [
    "# Get the root html node from the http response in task 1 \n",
    "root_node <-read_html(response)"
   ]
  },
  {
   "cell_type": "markdown",
   "metadata": {},
   "source": [
    "Get the first table in the HTML root node using `html_node` function\n"
   ]
  },
  {
   "cell_type": "code",
   "execution_count": 32,
   "metadata": {},
   "outputs": [],
   "source": [
    "# Get the table node from the root html node\n",
    "table_node <- html_node(root_node, \"table\")"
   ]
  },
  {
   "cell_type": "markdown",
   "metadata": {},
   "source": [
    "Read the table node as a data frame using `html_table` function\n"
   ]
  },
  {
   "cell_type": "code",
   "execution_count": 34,
   "metadata": {},
   "outputs": [
    {
     "data": {
      "text/html": [
       "<table>\n",
       "<thead><tr><th scope=col>Country or region</th><th scope=col>Date[a]</th><th scope=col>Tested</th><th scope=col>Units[b]</th><th scope=col>Confirmed(cases)</th><th scope=col>Confirmed /tested,%</th><th scope=col>Tested /population,%</th><th scope=col>Confirmed /population,%</th><th scope=col>Ref.</th></tr></thead>\n",
       "<tbody>\n",
       "\t<tr><td>Afghanistan        </td><td>17 Dec 2020        </td><td>154,767            </td><td>samples            </td><td>49,621             </td><td>32.1               </td><td>0.40               </td><td>0.13               </td><td>[1]                </td></tr>\n",
       "\t<tr><td>Albania            </td><td>18 Feb 2021        </td><td>428,654            </td><td>samples            </td><td>96,838             </td><td>22.6               </td><td>15.0               </td><td>3.4                </td><td>[2]                </td></tr>\n",
       "\t<tr><td>Algeria            </td><td>2 Nov 2020         </td><td>230,553            </td><td>samples            </td><td>58,574             </td><td>25.4               </td><td>0.53               </td><td>0.13               </td><td>[3][4]             </td></tr>\n",
       "\t<tr><td>Andorra            </td><td>15 Nov 2021        </td><td>225,568            </td><td>samples            </td><td>15,907             </td><td>7.1                </td><td>291                </td><td>20.5               </td><td>[5]                </td></tr>\n",
       "\t<tr><td>Angola             </td><td>12 Mar 2021        </td><td>399,228            </td><td>samples            </td><td>20,981             </td><td>5.3                </td><td>1.3                </td><td>0.067              </td><td>[6]                </td></tr>\n",
       "\t<tr><td>Antigua and Barbuda</td><td>6 Mar 2021         </td><td>15,268             </td><td>samples            </td><td>832                </td><td>5.4                </td><td>15.9               </td><td>0.86               </td><td>[7]                </td></tr>\n",
       "</tbody>\n",
       "</table>\n"
      ],
      "text/latex": [
       "\\begin{tabular}{r|lllllllll}\n",
       " Country or region & Date{[}a{]} & Tested & Units{[}b{]} & Confirmed(cases) & Confirmed /tested,\\% & Tested /population,\\% & Confirmed /population,\\% & Ref.\\\\\n",
       "\\hline\n",
       "\t Afghanistan         & 17 Dec 2020         & 154,767             & samples             & 49,621              & 32.1                & 0.40                & 0.13                & {[}1{]}            \\\\\n",
       "\t Albania             & 18 Feb 2021         & 428,654             & samples             & 96,838              & 22.6                & 15.0                & 3.4                 & {[}2{]}            \\\\\n",
       "\t Algeria             & 2 Nov 2020          & 230,553             & samples             & 58,574              & 25.4                & 0.53                & 0.13                & {[}3{]}{[}4{]}     \\\\\n",
       "\t Andorra             & 15 Nov 2021         & 225,568             & samples             & 15,907              & 7.1                 & 291                 & 20.5                & {[}5{]}            \\\\\n",
       "\t Angola              & 12 Mar 2021         & 399,228             & samples             & 20,981              & 5.3                 & 1.3                 & 0.067               & {[}6{]}            \\\\\n",
       "\t Antigua and Barbuda & 6 Mar 2021          & 15,268              & samples             & 832                 & 5.4                 & 15.9                & 0.86                & {[}7{]}            \\\\\n",
       "\\end{tabular}\n"
      ],
      "text/markdown": [
       "\n",
       "| Country or region | Date[a] | Tested | Units[b] | Confirmed(cases) | Confirmed /tested,% | Tested /population,% | Confirmed /population,% | Ref. |\n",
       "|---|---|---|---|---|---|---|---|---|\n",
       "| Afghanistan         | 17 Dec 2020         | 154,767             | samples             | 49,621              | 32.1                | 0.40                | 0.13                | [1]                 |\n",
       "| Albania             | 18 Feb 2021         | 428,654             | samples             | 96,838              | 22.6                | 15.0                | 3.4                 | [2]                 |\n",
       "| Algeria             | 2 Nov 2020          | 230,553             | samples             | 58,574              | 25.4                | 0.53                | 0.13                | [3][4]              |\n",
       "| Andorra             | 15 Nov 2021         | 225,568             | samples             | 15,907              | 7.1                 | 291                 | 20.5                | [5]                 |\n",
       "| Angola              | 12 Mar 2021         | 399,228             | samples             | 20,981              | 5.3                 | 1.3                 | 0.067               | [6]                 |\n",
       "| Antigua and Barbuda | 6 Mar 2021          | 15,268              | samples             | 832                 | 5.4                 | 15.9                | 0.86                | [7]                 |\n",
       "\n"
      ],
      "text/plain": [
       "  Country or region   Date[a]     Tested  Units[b] Confirmed(cases)\n",
       "1 Afghanistan         17 Dec 2020 154,767 samples  49,621          \n",
       "2 Albania             18 Feb 2021 428,654 samples  96,838          \n",
       "3 Algeria             2 Nov 2020  230,553 samples  58,574          \n",
       "4 Andorra             15 Nov 2021 225,568 samples  15,907          \n",
       "5 Angola              12 Mar 2021 399,228 samples  20,981          \n",
       "6 Antigua and Barbuda 6 Mar 2021  15,268  samples  832             \n",
       "  Confirmed /tested,% Tested /population,% Confirmed /population,% Ref.  \n",
       "1 32.1                0.40                 0.13                    [1]   \n",
       "2 22.6                15.0                 3.4                     [2]   \n",
       "3 25.4                0.53                 0.13                    [3][4]\n",
       "4 7.1                 291                  20.5                    [5]   \n",
       "5 5.3                 1.3                  0.067                   [6]   \n",
       "6 5.4                 15.9                 0.86                    [7]   "
      ]
     },
     "metadata": {},
     "output_type": "display_data"
    }
   ],
   "source": [
    "# Read the table node and convert it into a data frame, and print the data frame for review\n",
    "data_frame <- html_table(table_node)\n",
    "head(data_frame)"
   ]
  },
  {
   "cell_type": "markdown",
   "metadata": {},
   "source": [
    "## TASK 3: Pre-process and export the extracted data frame\n",
    "\n",
    "The goal of task 3 is to pre-process the extracted data frame from the previous step, and export it as a csv file\n"
   ]
  },
  {
   "cell_type": "markdown",
   "metadata": {},
   "source": [
    "Let's get a summary of the data frame\n"
   ]
  },
  {
   "cell_type": "code",
   "execution_count": 119,
   "metadata": {},
   "outputs": [
    {
     "name": "stdout",
     "output_type": "stream",
     "text": [
      "'data.frame':\t173 obs. of  9 variables:\n",
      " $ Country or region      : chr  \"Afghanistan\" \"Albania\" \"Algeria\" \"Andorra\" ...\n",
      " $ Date[a]                : chr  \"17 Dec 2020\" \"18 Feb 2021\" \"2 Nov 2020\" \"15 Nov 2021\" ...\n",
      " $ Tested                 : chr  \"154,767\" \"428,654\" \"230,553\" \"225,568\" ...\n",
      " $ Units[b]               : chr  \"samples\" \"samples\" \"samples\" \"samples\" ...\n",
      " $ Confirmed(cases)       : chr  \"49,621\" \"96,838\" \"58,574\" \"15,907\" ...\n",
      " $ Confirmed /tested,%    : chr  \"32.1\" \"22.6\" \"25.4\" \"7.1\" ...\n",
      " $ Tested /population,%   : chr  \"0.40\" \"15.0\" \"0.53\" \"291\" ...\n",
      " $ Confirmed /population,%: chr  \"0.13\" \"3.4\" \"0.13\" \"20.5\" ...\n",
      " $ Ref.                   : chr  \"[1]\" \"[2]\" \"[3][4]\" \"[5]\" ...\n"
     ]
    }
   ],
   "source": [
    "# Print the summary of the data frame\n",
    "str(data_frame)"
   ]
  },
  {
   "cell_type": "markdown",
   "metadata": {},
   "source": [
    "As you can see from the summary, the columns names are little bit different to understand and some column data types are not correct. For example, the `Tested` column shows as `character`.\n",
    "\n",
    "As such, the data frame read from HTML table will need some pre-processing such as removing irrelvant columns, renaming columns, and convert columns into proper data types.\n"
   ]
  },
  {
   "cell_type": "markdown",
   "metadata": {},
   "source": [
    "We have prepared a pre-processing function for you to conver the data frame but you can also try to write one by yourself\n"
   ]
  },
  {
   "cell_type": "code",
   "execution_count": 111,
   "metadata": {},
   "outputs": [],
   "source": [
    "preprocess_covid_data_frame <- function(data_frame) {\n",
    "    \n",
    "    shape <- dim(data_frame)\n",
    "\n",
    "    # Remove the World row\n",
    "    data_frame <-data_frame[!(data_frame$`Country or region`==\"World\"),]\n",
    "    # Remove the last row\n",
    "    data_frame <- data_frame[1:172, ]\n",
    "    \n",
    "    # We dont need the Units and Ref columns, so can be removed\n",
    "    data_frame[\"Ref.\"] <- NULL\n",
    "    data_frame[\"Units[b]\"] <- NULL\n",
    "    \n",
    "    # Renaming the columns\n",
    "    names(data_frame) <- c(\"country\", \"date\", \"tested\", \"confirmed\", \"confirmed.tested.ratio\", \"tested.population.ratio\", \"confirmed.population.ratio\")\n",
    "    \n",
    "    # Convert column data types\n",
    "    data_frame$country <- as.factor(data_frame$country)\n",
    "    data_frame$date <- as.factor(data_frame$date)\n",
    "    data_frame$tested <- as.numeric(gsub(\",\",\"\",data_frame$tested))\n",
    "    data_frame$confirmed <- as.numeric(gsub(\",\",\"\",data_frame$confirmed))\n",
    "    data_frame$'confirmed.tested.ratio' <- as.numeric(gsub(\",\",\"\",data_frame$`confirmed.tested.ratio`))\n",
    "    data_frame$'tested.population.ratio' <- as.numeric(gsub(\",\",\"\",data_frame$`tested.population.ratio`))\n",
    "    data_frame$'confirmed.population.ratio' <- as.numeric(gsub(\",\",\"\",data_frame$`confirmed.population.ratio`))\n",
    "    \n",
    "    return(data_frame)\n",
    "}\n",
    "\n"
   ]
  },
  {
   "cell_type": "markdown",
   "metadata": {},
   "source": [
    "Call the `preprocess_covid_data_frame` function\n"
   ]
  },
  {
   "cell_type": "code",
   "execution_count": 112,
   "metadata": {},
   "outputs": [
    {
     "data": {
      "text/html": [
       "<table>\n",
       "<thead><tr><th scope=col>country</th><th scope=col>date</th><th scope=col>tested</th><th scope=col>confirmed</th><th scope=col>confirmed.tested.ratio</th><th scope=col>tested.population.ratio</th><th scope=col>confirmed.population.ratio</th></tr></thead>\n",
       "<tbody>\n",
       "\t<tr><td>Afghanistan        </td><td>17 Dec 2020        </td><td>154767             </td><td>49621              </td><td>32.1               </td><td>  0.40             </td><td> 0.130             </td></tr>\n",
       "\t<tr><td>Albania            </td><td>18 Feb 2021        </td><td>428654             </td><td>96838              </td><td>22.6               </td><td> 15.00             </td><td> 3.400             </td></tr>\n",
       "\t<tr><td>Algeria            </td><td>2 Nov 2020         </td><td>230553             </td><td>58574              </td><td>25.4               </td><td>  0.53             </td><td> 0.130             </td></tr>\n",
       "\t<tr><td>Andorra            </td><td>15 Nov 2021        </td><td>225568             </td><td>15907              </td><td> 7.1               </td><td>291.00             </td><td>20.500             </td></tr>\n",
       "\t<tr><td>Angola             </td><td>12 Mar 2021        </td><td>399228             </td><td>20981              </td><td> 5.3               </td><td>  1.30             </td><td> 0.067             </td></tr>\n",
       "\t<tr><td>Antigua and Barbuda</td><td>6 Mar 2021         </td><td> 15268             </td><td>  832              </td><td> 5.4               </td><td> 15.90             </td><td> 0.860             </td></tr>\n",
       "</tbody>\n",
       "</table>\n"
      ],
      "text/latex": [
       "\\begin{tabular}{r|lllllll}\n",
       " country & date & tested & confirmed & confirmed.tested.ratio & tested.population.ratio & confirmed.population.ratio\\\\\n",
       "\\hline\n",
       "\t Afghanistan         & 17 Dec 2020         & 154767              & 49621               & 32.1                &   0.40              &  0.130             \\\\\n",
       "\t Albania             & 18 Feb 2021         & 428654              & 96838               & 22.6                &  15.00              &  3.400             \\\\\n",
       "\t Algeria             & 2 Nov 2020          & 230553              & 58574               & 25.4                &   0.53              &  0.130             \\\\\n",
       "\t Andorra             & 15 Nov 2021         & 225568              & 15907               &  7.1                & 291.00              & 20.500             \\\\\n",
       "\t Angola              & 12 Mar 2021         & 399228              & 20981               &  5.3                &   1.30              &  0.067             \\\\\n",
       "\t Antigua and Barbuda & 6 Mar 2021          &  15268              &   832               &  5.4                &  15.90              &  0.860             \\\\\n",
       "\\end{tabular}\n"
      ],
      "text/markdown": [
       "\n",
       "| country | date | tested | confirmed | confirmed.tested.ratio | tested.population.ratio | confirmed.population.ratio |\n",
       "|---|---|---|---|---|---|---|\n",
       "| Afghanistan         | 17 Dec 2020         | 154767              | 49621               | 32.1                |   0.40              |  0.130              |\n",
       "| Albania             | 18 Feb 2021         | 428654              | 96838               | 22.6                |  15.00              |  3.400              |\n",
       "| Algeria             | 2 Nov 2020          | 230553              | 58574               | 25.4                |   0.53              |  0.130              |\n",
       "| Andorra             | 15 Nov 2021         | 225568              | 15907               |  7.1                | 291.00              | 20.500              |\n",
       "| Angola              | 12 Mar 2021         | 399228              | 20981               |  5.3                |   1.30              |  0.067              |\n",
       "| Antigua and Barbuda | 6 Mar 2021          |  15268              |   832               |  5.4                |  15.90              |  0.860              |\n",
       "\n"
      ],
      "text/plain": [
       "  country             date        tested confirmed confirmed.tested.ratio\n",
       "1 Afghanistan         17 Dec 2020 154767 49621     32.1                  \n",
       "2 Albania             18 Feb 2021 428654 96838     22.6                  \n",
       "3 Algeria             2 Nov 2020  230553 58574     25.4                  \n",
       "4 Andorra             15 Nov 2021 225568 15907      7.1                  \n",
       "5 Angola              12 Mar 2021 399228 20981      5.3                  \n",
       "6 Antigua and Barbuda 6 Mar 2021   15268   832      5.4                  \n",
       "  tested.population.ratio confirmed.population.ratio\n",
       "1   0.40                   0.130                    \n",
       "2  15.00                   3.400                    \n",
       "3   0.53                   0.130                    \n",
       "4 291.00                  20.500                    \n",
       "5   1.30                   0.067                    \n",
       "6  15.90                   0.860                    "
      ]
     },
     "metadata": {},
     "output_type": "display_data"
    }
   ],
   "source": [
    "# call `preprocess_covid_data_frame` function and assign it to a new data frame\n",
    "postprocess <- preprocess_covid_data_frame(data_frame)\n",
    "head(postprocess)"
   ]
  },
  {
   "cell_type": "markdown",
   "metadata": {},
   "source": [
    "Get the summary of the processed data frame again\n"
   ]
  },
  {
   "cell_type": "code",
   "execution_count": 118,
   "metadata": {},
   "outputs": [
    {
     "name": "stdout",
     "output_type": "stream",
     "text": [
      "'data.frame':\t172 obs. of  7 variables:\n",
      " $ country                   : Factor w/ 172 levels \"Afghanistan\",..: 1 2 3 4 5 6 7 8 9 10 ...\n",
      " $ date                      : Factor w/ 79 levels \"1 Aug 2021\",\"1 Jul 2021\",..: 23 27 36 18 10 70 31 31 31 31 ...\n",
      " $ tested                    : num  154767 428654 230553 225568 399228 ...\n",
      " $ confirmed                 : num  49621 96838 58574 15907 20981 ...\n",
      " $ confirmed.tested.ratio    : num  32.1 22.6 25.4 7.1 5.3 5.4 20.6 14.5 0.42 0.98 ...\n",
      " $ tested.population.ratio   : num  0.4 15 0.53 291 1.3 ...\n",
      " $ confirmed.population.ratio: num  0.13 3.4 0.13 20.5 0.067 0.86 11.7 11.3 0.78 11.5 ...\n"
     ]
    }
   ],
   "source": [
    "# Print the summary of the processed data frame again\n",
    "str(postprocess)"
   ]
  },
  {
   "cell_type": "markdown",
   "metadata": {},
   "source": [
    "After pre-processing, you can see the columns and columns names are simplified, and columns types are converted into correct types.\n"
   ]
  },
  {
   "cell_type": "markdown",
   "metadata": {},
   "source": [
    "The data frame has following columns:\n",
    "\n",
    "*   **country** - The name of the country\n",
    "*   **date** - Reported date\n",
    "*   **tested** - Total tested cases by the reported date\n",
    "*   **confirmed** - Total confirmed cases by the reported date\n",
    "*   **confirmed.tested.ratio** - The ratio of confirmed cases to the tested cases\n",
    "*   **tested.population.ratio** - The ratio of tested cases to the population of the country\n",
    "*   **confirmed.population.ratio** - The ratio of confirmed cases to the population of the country\n"
   ]
  },
  {
   "cell_type": "markdown",
   "metadata": {},
   "source": [
    "OK, we can call `write.csv()` function to save the csv file into a file.\n"
   ]
  },
  {
   "cell_type": "code",
   "execution_count": 120,
   "metadata": {},
   "outputs": [],
   "source": [
    "# Export the data frame to a csv file\n",
    "write.csv(postprocess, file = \"covid.csv\", row.names = FALSE)"
   ]
  },
  {
   "cell_type": "markdown",
   "metadata": {},
   "source": [
    "Note for IBM Waston Studio, there is no traditional \"hard disk\" associated with a R workspace.\n",
    "\n",
    "Even if you call `write.csv()` method to save the data frame as a csv file, it won't be shown in IBM Cloud Object Storage asset UI automatically.\n",
    "\n",
    "However, you may still check if the `covid.csv` exists using following code snippet:\n"
   ]
  },
  {
   "cell_type": "code",
   "execution_count": 121,
   "metadata": {},
   "outputs": [
    {
     "name": "stdout",
     "output_type": "stream",
     "text": [
      "[1] \"/home/dsxuser/work/covid.csv\"\n"
     ]
    },
    {
     "data": {
      "text/html": [
       "TRUE"
      ],
      "text/latex": [
       "TRUE"
      ],
      "text/markdown": [
       "TRUE"
      ],
      "text/plain": [
       "[1] TRUE"
      ]
     },
     "metadata": {},
     "output_type": "display_data"
    }
   ],
   "source": [
    "# Get working directory\n",
    "wd <- getwd()\n",
    "# Get exported \n",
    "file_path <- paste(wd, sep=\"\", \"/covid.csv\")\n",
    "# File path\n",
    "print(file_path)\n",
    "file.exists(file_path)"
   ]
  },
  {
   "cell_type": "markdown",
   "metadata": {},
   "source": [
    "**Optional Step**: If you have difficulties finishing above webscraping tasks, you may still continue with next tasks by downloading a provided csv file from here:\n"
   ]
  },
  {
   "cell_type": "code",
   "execution_count": null,
   "metadata": {},
   "outputs": [],
   "source": [
    "## Download a sample csv file\n",
    "# covid_csv_file <- download.file(\"https://cf-courses-data.s3.us.cloud-object-storage.appdomain.cloud/IBMDeveloperSkillsNetwork-RP0101EN-Coursera/v2/dataset/covid.csv\", destfile=\"covid.csv\")\n",
    "# covid_data_frame_csv <- read.csv(\"covid.csv\", header=TRUE, sep=\",\")"
   ]
  },
  {
   "cell_type": "markdown",
   "metadata": {},
   "source": [
    "## TASK 4: Get a subset of the extracted data frame\n",
    "\n",
    "The goal of task 4 is to get the 5th to 10th rows from the data frame with only `country` and `confirmed` columns selected\n"
   ]
  },
  {
   "cell_type": "code",
   "execution_count": 124,
   "metadata": {},
   "outputs": [
    {
     "data": {
      "text/html": [
       "<table>\n",
       "<thead><tr><th></th><th scope=col>country</th><th scope=col>confirmed</th></tr></thead>\n",
       "<tbody>\n",
       "\t<tr><th scope=row>5</th><td>Angola             </td><td>  20981            </td></tr>\n",
       "\t<tr><th scope=row>6</th><td>Antigua and Barbuda</td><td>    832            </td></tr>\n",
       "\t<tr><th scope=row>7</th><td>Argentina          </td><td>5313607            </td></tr>\n",
       "\t<tr><th scope=row>8</th><td>Armenia            </td><td> 332713            </td></tr>\n",
       "\t<tr><th scope=row>9</th><td>Australia          </td><td> 195618            </td></tr>\n",
       "\t<tr><th scope=row>10</th><td>Austria            </td><td>1026931            </td></tr>\n",
       "</tbody>\n",
       "</table>\n"
      ],
      "text/latex": [
       "\\begin{tabular}{r|ll}\n",
       "  & country & confirmed\\\\\n",
       "\\hline\n",
       "\t5 & Angola              &   20981            \\\\\n",
       "\t6 & Antigua and Barbuda &     832            \\\\\n",
       "\t7 & Argentina           & 5313607            \\\\\n",
       "\t8 & Armenia             &  332713            \\\\\n",
       "\t9 & Australia           &  195618            \\\\\n",
       "\t10 & Austria             & 1026931            \\\\\n",
       "\\end{tabular}\n"
      ],
      "text/markdown": [
       "\n",
       "| <!--/--> | country | confirmed |\n",
       "|---|---|---|\n",
       "| 5 | Angola              |   20981             |\n",
       "| 6 | Antigua and Barbuda |     832             |\n",
       "| 7 | Argentina           | 5313607             |\n",
       "| 8 | Armenia             |  332713             |\n",
       "| 9 | Australia           |  195618             |\n",
       "| 10 | Austria             | 1026931             |\n",
       "\n"
      ],
      "text/plain": [
       "   country             confirmed\n",
       "5  Angola                20981  \n",
       "6  Antigua and Barbuda     832  \n",
       "7  Argentina           5313607  \n",
       "8  Armenia              332713  \n",
       "9  Australia            195618  \n",
       "10 Austria             1026931  "
      ]
     },
     "metadata": {},
     "output_type": "display_data"
    }
   ],
   "source": [
    "# Read covid_data_frame_csv from the csv file\n",
    "covid_data_frame_csv <- read.csv(\"covid.csv\", header=TRUE, sep=\",\")\n",
    "\n",
    "# Get the 5th to 10th rows, with two \"country\" \"confirmed\" columns\n",
    "covid_data_frame_csv[5:10, c(\"country\",\"confirmed\")]"
   ]
  },
  {
   "cell_type": "markdown",
   "metadata": {},
   "source": [
    "## TASK 5: Calculate worldwide COVID testing positive ratio\n",
    "\n",
    "The goal of task 5 is to get the total confirmed and tested cases worldwide, and try to figure the overall positive ratio using `confirmed cases / tested cases`\n"
   ]
  },
  {
   "cell_type": "code",
   "execution_count": 127,
   "metadata": {},
   "outputs": [
    {
     "data": {
      "text/html": [
       "<table>\n",
       "<thead><tr><th scope=col>country</th><th scope=col>date</th><th scope=col>tested</th><th scope=col>confirmed</th><th scope=col>confirmed.tested.ratio</th><th scope=col>tested.population.ratio</th><th scope=col>confirmed.population.ratio</th></tr></thead>\n",
       "<tbody>\n",
       "\t<tr><td>Afghanistan        </td><td>17 Dec 2020        </td><td>154767             </td><td>49621              </td><td>32.1               </td><td>  0.40             </td><td> 0.130             </td></tr>\n",
       "\t<tr><td>Albania            </td><td>18 Feb 2021        </td><td>428654             </td><td>96838              </td><td>22.6               </td><td> 15.00             </td><td> 3.400             </td></tr>\n",
       "\t<tr><td>Algeria            </td><td>2 Nov 2020         </td><td>230553             </td><td>58574              </td><td>25.4               </td><td>  0.53             </td><td> 0.130             </td></tr>\n",
       "\t<tr><td>Andorra            </td><td>15 Nov 2021        </td><td>225568             </td><td>15907              </td><td> 7.1               </td><td>291.00             </td><td>20.500             </td></tr>\n",
       "\t<tr><td>Angola             </td><td>12 Mar 2021        </td><td>399228             </td><td>20981              </td><td> 5.3               </td><td>  1.30             </td><td> 0.067             </td></tr>\n",
       "\t<tr><td>Antigua and Barbuda</td><td>6 Mar 2021         </td><td> 15268             </td><td>  832              </td><td> 5.4               </td><td> 15.90             </td><td> 0.860             </td></tr>\n",
       "</tbody>\n",
       "</table>\n"
      ],
      "text/latex": [
       "\\begin{tabular}{r|lllllll}\n",
       " country & date & tested & confirmed & confirmed.tested.ratio & tested.population.ratio & confirmed.population.ratio\\\\\n",
       "\\hline\n",
       "\t Afghanistan         & 17 Dec 2020         & 154767              & 49621               & 32.1                &   0.40              &  0.130             \\\\\n",
       "\t Albania             & 18 Feb 2021         & 428654              & 96838               & 22.6                &  15.00              &  3.400             \\\\\n",
       "\t Algeria             & 2 Nov 2020          & 230553              & 58574               & 25.4                &   0.53              &  0.130             \\\\\n",
       "\t Andorra             & 15 Nov 2021         & 225568              & 15907               &  7.1                & 291.00              & 20.500             \\\\\n",
       "\t Angola              & 12 Mar 2021         & 399228              & 20981               &  5.3                &   1.30              &  0.067             \\\\\n",
       "\t Antigua and Barbuda & 6 Mar 2021          &  15268              &   832               &  5.4                &  15.90              &  0.860             \\\\\n",
       "\\end{tabular}\n"
      ],
      "text/markdown": [
       "\n",
       "| country | date | tested | confirmed | confirmed.tested.ratio | tested.population.ratio | confirmed.population.ratio |\n",
       "|---|---|---|---|---|---|---|\n",
       "| Afghanistan         | 17 Dec 2020         | 154767              | 49621               | 32.1                |   0.40              |  0.130              |\n",
       "| Albania             | 18 Feb 2021         | 428654              | 96838               | 22.6                |  15.00              |  3.400              |\n",
       "| Algeria             | 2 Nov 2020          | 230553              | 58574               | 25.4                |   0.53              |  0.130              |\n",
       "| Andorra             | 15 Nov 2021         | 225568              | 15907               |  7.1                | 291.00              | 20.500              |\n",
       "| Angola              | 12 Mar 2021         | 399228              | 20981               |  5.3                |   1.30              |  0.067              |\n",
       "| Antigua and Barbuda | 6 Mar 2021          |  15268              |   832               |  5.4                |  15.90              |  0.860              |\n",
       "\n"
      ],
      "text/plain": [
       "  country             date        tested confirmed confirmed.tested.ratio\n",
       "1 Afghanistan         17 Dec 2020 154767 49621     32.1                  \n",
       "2 Albania             18 Feb 2021 428654 96838     22.6                  \n",
       "3 Algeria             2 Nov 2020  230553 58574     25.4                  \n",
       "4 Andorra             15 Nov 2021 225568 15907      7.1                  \n",
       "5 Angola              12 Mar 2021 399228 20981      5.3                  \n",
       "6 Antigua and Barbuda 6 Mar 2021   15268   832      5.4                  \n",
       "  tested.population.ratio confirmed.population.ratio\n",
       "1   0.40                   0.130                    \n",
       "2  15.00                   3.400                    \n",
       "3   0.53                   0.130                    \n",
       "4 291.00                  20.500                    \n",
       "5   1.30                   0.067                    \n",
       "6  15.90                   0.860                    "
      ]
     },
     "metadata": {},
     "output_type": "display_data"
    }
   ],
   "source": [
    "head(covid_data_frame_csv)"
   ]
  },
  {
   "cell_type": "code",
   "execution_count": 64,
   "metadata": {},
   "outputs": [],
   "source": [
    "library(MASS)"
   ]
  },
  {
   "cell_type": "code",
   "execution_count": 157,
   "metadata": {},
   "outputs": [
    {
     "name": "stdout",
     "output_type": "stream",
     "text": [
      "[1] \"Total confirmed cases worldwide: 211826167 cases\"\n",
      "[1] \"Total tested cases worldwide: 3461177974 cases\"\n",
      "[1] \"Overall positive ratio: 3/50\"\n"
     ]
    }
   ],
   "source": [
    "# Get the total confirmed cases worldwide\n",
    "sum_confirmed <- sum(covid_data_frame_csv$confirmed)\n",
    "print(paste(\"Total confirmed cases worldwide:\", sum_confirmed , \"cases\"))\n",
    "\n",
    "# Get the total tested cases worldwide\n",
    "sum_tested <- sum(covid_data_frame_csv$tested)\n",
    "print(paste(\"Total tested cases worldwide:\", sum_tested , \"cases\"))\n",
    "\n",
    "# Get the positive ratio (confirmed / tested)\n",
    "positive_ratio <- round(sum_confirmed/sum_tested,2)\n",
    "print(paste(\"Overall positive ratio:\", fractions(positive_ratio)))"
   ]
  },
  {
   "cell_type": "markdown",
   "metadata": {},
   "source": [
    "## TASK 6: Get a country list which reported their testing data\n",
    "\n",
    "The goal of task 6 is to get a catalog or sorted list of countries who have reported their COVID-19 testing data\n"
   ]
  },
  {
   "cell_type": "code",
   "execution_count": 96,
   "metadata": {},
   "outputs": [
    {
     "data": {
      "text/html": [
       "<table>\n",
       "<thead><tr><th scope=col>country</th></tr></thead>\n",
       "<tbody>\n",
       "\t<tr><td>Afghanistan        </td></tr>\n",
       "\t<tr><td>Albania            </td></tr>\n",
       "\t<tr><td>Algeria            </td></tr>\n",
       "\t<tr><td>Andorra            </td></tr>\n",
       "\t<tr><td>Angola             </td></tr>\n",
       "\t<tr><td>Antigua and Barbuda</td></tr>\n",
       "</tbody>\n",
       "</table>\n"
      ],
      "text/latex": [
       "\\begin{tabular}{r|l}\n",
       " country\\\\\n",
       "\\hline\n",
       "\t Afghanistan        \\\\\n",
       "\t Albania            \\\\\n",
       "\t Algeria            \\\\\n",
       "\t Andorra            \\\\\n",
       "\t Angola             \\\\\n",
       "\t Antigua and Barbuda\\\\\n",
       "\\end{tabular}\n"
      ],
      "text/markdown": [
       "\n",
       "| country |\n",
       "|---|\n",
       "| Afghanistan         |\n",
       "| Albania             |\n",
       "| Algeria             |\n",
       "| Andorra             |\n",
       "| Angola              |\n",
       "| Antigua and Barbuda |\n",
       "\n"
      ],
      "text/plain": [
       "  country            \n",
       "1 Afghanistan        \n",
       "2 Albania            \n",
       "3 Algeria            \n",
       "4 Andorra            \n",
       "5 Angola             \n",
       "6 Antigua and Barbuda"
      ]
     },
     "metadata": {},
     "output_type": "display_data"
    },
    {
     "data": {
      "text/html": [
       "'factor'"
      ],
      "text/latex": [
       "'factor'"
      ],
      "text/markdown": [
       "'factor'"
      ],
      "text/plain": [
       "[1] \"factor\""
      ]
     },
     "metadata": {},
     "output_type": "display_data"
    },
    {
     "data": {
      "text/html": [
       "'character'"
      ],
      "text/latex": [
       "'character'"
      ],
      "text/markdown": [
       "'character'"
      ],
      "text/plain": [
       "[1] \"character\""
      ]
     },
     "metadata": {},
     "output_type": "display_data"
    },
    {
     "data": {
      "text/html": [
       "<ol class=list-inline>\n",
       "\t<li>'Zimbabwe'</li>\n",
       "\t<li>'Zambia'</li>\n",
       "\t<li>'Vietnam'</li>\n",
       "\t<li>'Venezuela'</li>\n",
       "\t<li>'Uzbekistan'</li>\n",
       "\t<li>'Uruguay'</li>\n",
       "\t<li>'United States'</li>\n",
       "\t<li>'United Kingdom'</li>\n",
       "\t<li>'United Arab Emirates'</li>\n",
       "\t<li>'Ukraine'</li>\n",
       "\t<li>'Uganda'</li>\n",
       "\t<li>'Turkey'</li>\n",
       "\t<li>'Tunisia'</li>\n",
       "\t<li>'Trinidad and Tobago'</li>\n",
       "\t<li>'Togo'</li>\n",
       "\t<li>'Thailand'</li>\n",
       "\t<li>'Tanzania'</li>\n",
       "\t<li>'Taiwan[m]'</li>\n",
       "\t<li>'Switzerland[l]'</li>\n",
       "\t<li>'Sweden'</li>\n",
       "\t<li>'Sudan'</li>\n",
       "\t<li>'Sri Lanka'</li>\n",
       "\t<li>'Spain'</li>\n",
       "\t<li>'South Sudan'</li>\n",
       "\t<li>'South Korea'</li>\n",
       "\t<li>'South Africa'</li>\n",
       "\t<li>'Slovenia'</li>\n",
       "\t<li>'Slovakia'</li>\n",
       "\t<li>'Singapore'</li>\n",
       "\t<li>'Serbia'</li>\n",
       "\t<li>'Senegal'</li>\n",
       "\t<li>'Saudi Arabia'</li>\n",
       "\t<li>'San Marino'</li>\n",
       "\t<li>'Saint Vincent'</li>\n",
       "\t<li>'Saint Lucia'</li>\n",
       "\t<li>'Saint Kitts and Nevis'</li>\n",
       "\t<li>'Rwanda'</li>\n",
       "\t<li>'Russia'</li>\n",
       "\t<li>'Romania'</li>\n",
       "\t<li>'Qatar'</li>\n",
       "\t<li>'Portugal'</li>\n",
       "\t<li>'Poland'</li>\n",
       "\t<li>'Philippines'</li>\n",
       "\t<li>'Peru'</li>\n",
       "\t<li>'Paraguay'</li>\n",
       "\t<li>'Papua New Guinea'</li>\n",
       "\t<li>'Panama'</li>\n",
       "\t<li>'Palestine'</li>\n",
       "\t<li>'Pakistan'</li>\n",
       "\t<li>'Oman'</li>\n",
       "\t<li>'Norway'</li>\n",
       "\t<li>'Northern Cyprus[k]'</li>\n",
       "\t<li>'North Macedonia'</li>\n",
       "\t<li>'North Korea'</li>\n",
       "\t<li>'Nigeria'</li>\n",
       "\t<li>'Niger'</li>\n",
       "\t<li>'New Zealand'</li>\n",
       "\t<li>'New Caledonia'</li>\n",
       "\t<li>'Netherlands'</li>\n",
       "\t<li>'Nepal'</li>\n",
       "\t<li>'Namibia'</li>\n",
       "\t<li>'Myanmar'</li>\n",
       "\t<li>'Mozambique'</li>\n",
       "\t<li>'Morocco'</li>\n",
       "\t<li>'Montenegro'</li>\n",
       "\t<li>'Mongolia'</li>\n",
       "\t<li>'Moldova[j]'</li>\n",
       "\t<li>'Mexico'</li>\n",
       "\t<li>'Mauritius'</li>\n",
       "\t<li>'Mauritania'</li>\n",
       "\t<li>'Malta'</li>\n",
       "\t<li>'Mali'</li>\n",
       "\t<li>'Maldives'</li>\n",
       "\t<li>'Malaysia'</li>\n",
       "\t<li>'Malawi'</li>\n",
       "\t<li>'Madagascar'</li>\n",
       "\t<li>'Luxembourg[i]'</li>\n",
       "\t<li>'Lithuania'</li>\n",
       "\t<li>'Libya'</li>\n",
       "\t<li>'Liberia'</li>\n",
       "\t<li>'Lesotho'</li>\n",
       "\t<li>'Lebanon'</li>\n",
       "\t<li>'Latvia'</li>\n",
       "\t<li>'Laos'</li>\n",
       "\t<li>'Kyrgyzstan'</li>\n",
       "\t<li>'Kuwait'</li>\n",
       "\t<li>'Kosovo'</li>\n",
       "\t<li>'Kenya'</li>\n",
       "\t<li>'Kazakhstan'</li>\n",
       "\t<li>'Jordan'</li>\n",
       "\t<li>'Japan'</li>\n",
       "\t<li>'Jamaica'</li>\n",
       "\t<li>'Ivory Coast'</li>\n",
       "\t<li>'Italy'</li>\n",
       "\t<li>'Israel'</li>\n",
       "\t<li>'Ireland'</li>\n",
       "\t<li>'Iraq'</li>\n",
       "\t<li>'Iran'</li>\n",
       "\t<li>'Indonesia'</li>\n",
       "\t<li>'India'</li>\n",
       "\t<li>'Iceland'</li>\n",
       "\t<li>'Hungary'</li>\n",
       "\t<li>'Honduras'</li>\n",
       "\t<li>'Haiti'</li>\n",
       "\t<li>'Guyana'</li>\n",
       "\t<li>'Guinea-Bissau'</li>\n",
       "\t<li>'Guinea'</li>\n",
       "\t<li>'Guatemala'</li>\n",
       "\t<li>'Grenada'</li>\n",
       "\t<li>'Greenland'</li>\n",
       "\t<li>'Greece'</li>\n",
       "\t<li>'Ghana'</li>\n",
       "\t<li>'Germany'</li>\n",
       "\t<li>'Georgia[h]'</li>\n",
       "\t<li>'Gambia'</li>\n",
       "\t<li>'Gabon'</li>\n",
       "\t<li>'France[f][g]'</li>\n",
       "\t<li>'Finland'</li>\n",
       "\t<li>'Fiji'</li>\n",
       "\t<li>'Faroe Islands'</li>\n",
       "\t<li>'Ethiopia'</li>\n",
       "\t<li>'Eswatini'</li>\n",
       "\t<li>'Estonia'</li>\n",
       "\t<li>'Equatorial Guinea'</li>\n",
       "\t<li>'El Salvador'</li>\n",
       "\t<li>'Egypt'</li>\n",
       "\t<li>'Ecuador'</li>\n",
       "\t<li>'DR Congo'</li>\n",
       "\t<li>'Dominican Republic'</li>\n",
       "\t<li>'Dominica'</li>\n",
       "\t<li>'Djibouti'</li>\n",
       "\t<li>'Denmark[e]'</li>\n",
       "\t<li>'Czechia'</li>\n",
       "\t<li>'Cyprus[d]'</li>\n",
       "\t<li>'Cuba'</li>\n",
       "\t<li>'Croatia'</li>\n",
       "\t<li>'Costa Rica'</li>\n",
       "\t<li>'Colombia'</li>\n",
       "\t<li>'China[c]'</li>\n",
       "\t<li>'Chile'</li>\n",
       "\t<li>'Chad'</li>\n",
       "\t<li>'Canada'</li>\n",
       "\t<li>'Cameroon'</li>\n",
       "\t<li>'Cambodia'</li>\n",
       "\t<li>'Burundi'</li>\n",
       "\t<li>'Burkina Faso'</li>\n",
       "\t<li>'Bulgaria'</li>\n",
       "\t<li>'Brunei'</li>\n",
       "\t<li>'Brazil'</li>\n",
       "\t<li>'Botswana'</li>\n",
       "\t<li>'Bosnia and Herzegovina'</li>\n",
       "\t<li>'Bolivia'</li>\n",
       "\t<li>'Bhutan'</li>\n",
       "\t<li>'Benin'</li>\n",
       "\t<li>'Belize'</li>\n",
       "\t<li>'Belgium'</li>\n",
       "\t<li>'Belarus'</li>\n",
       "\t<li>'Barbados'</li>\n",
       "\t<li>'Bangladesh'</li>\n",
       "\t<li>'Bahrain'</li>\n",
       "\t<li>'Bahamas'</li>\n",
       "\t<li>'Azerbaijan'</li>\n",
       "\t<li>'Austria'</li>\n",
       "\t<li>'Australia'</li>\n",
       "\t<li>'Armenia'</li>\n",
       "\t<li>'Argentina'</li>\n",
       "\t<li>'Antigua and Barbuda'</li>\n",
       "\t<li>'Angola'</li>\n",
       "\t<li>'Andorra'</li>\n",
       "\t<li>'Algeria'</li>\n",
       "\t<li>'Albania'</li>\n",
       "\t<li>'Afghanistan'</li>\n",
       "</ol>\n"
      ],
      "text/latex": [
       "\\begin{enumerate*}\n",
       "\\item 'Zimbabwe'\n",
       "\\item 'Zambia'\n",
       "\\item 'Vietnam'\n",
       "\\item 'Venezuela'\n",
       "\\item 'Uzbekistan'\n",
       "\\item 'Uruguay'\n",
       "\\item 'United States'\n",
       "\\item 'United Kingdom'\n",
       "\\item 'United Arab Emirates'\n",
       "\\item 'Ukraine'\n",
       "\\item 'Uganda'\n",
       "\\item 'Turkey'\n",
       "\\item 'Tunisia'\n",
       "\\item 'Trinidad and Tobago'\n",
       "\\item 'Togo'\n",
       "\\item 'Thailand'\n",
       "\\item 'Tanzania'\n",
       "\\item 'Taiwan{[}m{]}'\n",
       "\\item 'Switzerland{[}l{]}'\n",
       "\\item 'Sweden'\n",
       "\\item 'Sudan'\n",
       "\\item 'Sri Lanka'\n",
       "\\item 'Spain'\n",
       "\\item 'South Sudan'\n",
       "\\item 'South Korea'\n",
       "\\item 'South Africa'\n",
       "\\item 'Slovenia'\n",
       "\\item 'Slovakia'\n",
       "\\item 'Singapore'\n",
       "\\item 'Serbia'\n",
       "\\item 'Senegal'\n",
       "\\item 'Saudi Arabia'\n",
       "\\item 'San Marino'\n",
       "\\item 'Saint Vincent'\n",
       "\\item 'Saint Lucia'\n",
       "\\item 'Saint Kitts and Nevis'\n",
       "\\item 'Rwanda'\n",
       "\\item 'Russia'\n",
       "\\item 'Romania'\n",
       "\\item 'Qatar'\n",
       "\\item 'Portugal'\n",
       "\\item 'Poland'\n",
       "\\item 'Philippines'\n",
       "\\item 'Peru'\n",
       "\\item 'Paraguay'\n",
       "\\item 'Papua New Guinea'\n",
       "\\item 'Panama'\n",
       "\\item 'Palestine'\n",
       "\\item 'Pakistan'\n",
       "\\item 'Oman'\n",
       "\\item 'Norway'\n",
       "\\item 'Northern Cyprus{[}k{]}'\n",
       "\\item 'North Macedonia'\n",
       "\\item 'North Korea'\n",
       "\\item 'Nigeria'\n",
       "\\item 'Niger'\n",
       "\\item 'New Zealand'\n",
       "\\item 'New Caledonia'\n",
       "\\item 'Netherlands'\n",
       "\\item 'Nepal'\n",
       "\\item 'Namibia'\n",
       "\\item 'Myanmar'\n",
       "\\item 'Mozambique'\n",
       "\\item 'Morocco'\n",
       "\\item 'Montenegro'\n",
       "\\item 'Mongolia'\n",
       "\\item 'Moldova{[}j{]}'\n",
       "\\item 'Mexico'\n",
       "\\item 'Mauritius'\n",
       "\\item 'Mauritania'\n",
       "\\item 'Malta'\n",
       "\\item 'Mali'\n",
       "\\item 'Maldives'\n",
       "\\item 'Malaysia'\n",
       "\\item 'Malawi'\n",
       "\\item 'Madagascar'\n",
       "\\item 'Luxembourg{[}i{]}'\n",
       "\\item 'Lithuania'\n",
       "\\item 'Libya'\n",
       "\\item 'Liberia'\n",
       "\\item 'Lesotho'\n",
       "\\item 'Lebanon'\n",
       "\\item 'Latvia'\n",
       "\\item 'Laos'\n",
       "\\item 'Kyrgyzstan'\n",
       "\\item 'Kuwait'\n",
       "\\item 'Kosovo'\n",
       "\\item 'Kenya'\n",
       "\\item 'Kazakhstan'\n",
       "\\item 'Jordan'\n",
       "\\item 'Japan'\n",
       "\\item 'Jamaica'\n",
       "\\item 'Ivory Coast'\n",
       "\\item 'Italy'\n",
       "\\item 'Israel'\n",
       "\\item 'Ireland'\n",
       "\\item 'Iraq'\n",
       "\\item 'Iran'\n",
       "\\item 'Indonesia'\n",
       "\\item 'India'\n",
       "\\item 'Iceland'\n",
       "\\item 'Hungary'\n",
       "\\item 'Honduras'\n",
       "\\item 'Haiti'\n",
       "\\item 'Guyana'\n",
       "\\item 'Guinea-Bissau'\n",
       "\\item 'Guinea'\n",
       "\\item 'Guatemala'\n",
       "\\item 'Grenada'\n",
       "\\item 'Greenland'\n",
       "\\item 'Greece'\n",
       "\\item 'Ghana'\n",
       "\\item 'Germany'\n",
       "\\item 'Georgia{[}h{]}'\n",
       "\\item 'Gambia'\n",
       "\\item 'Gabon'\n",
       "\\item 'France{[}f{]}{[}g{]}'\n",
       "\\item 'Finland'\n",
       "\\item 'Fiji'\n",
       "\\item 'Faroe Islands'\n",
       "\\item 'Ethiopia'\n",
       "\\item 'Eswatini'\n",
       "\\item 'Estonia'\n",
       "\\item 'Equatorial Guinea'\n",
       "\\item 'El Salvador'\n",
       "\\item 'Egypt'\n",
       "\\item 'Ecuador'\n",
       "\\item 'DR Congo'\n",
       "\\item 'Dominican Republic'\n",
       "\\item 'Dominica'\n",
       "\\item 'Djibouti'\n",
       "\\item 'Denmark{[}e{]}'\n",
       "\\item 'Czechia'\n",
       "\\item 'Cyprus{[}d{]}'\n",
       "\\item 'Cuba'\n",
       "\\item 'Croatia'\n",
       "\\item 'Costa Rica'\n",
       "\\item 'Colombia'\n",
       "\\item 'China{[}c{]}'\n",
       "\\item 'Chile'\n",
       "\\item 'Chad'\n",
       "\\item 'Canada'\n",
       "\\item 'Cameroon'\n",
       "\\item 'Cambodia'\n",
       "\\item 'Burundi'\n",
       "\\item 'Burkina Faso'\n",
       "\\item 'Bulgaria'\n",
       "\\item 'Brunei'\n",
       "\\item 'Brazil'\n",
       "\\item 'Botswana'\n",
       "\\item 'Bosnia and Herzegovina'\n",
       "\\item 'Bolivia'\n",
       "\\item 'Bhutan'\n",
       "\\item 'Benin'\n",
       "\\item 'Belize'\n",
       "\\item 'Belgium'\n",
       "\\item 'Belarus'\n",
       "\\item 'Barbados'\n",
       "\\item 'Bangladesh'\n",
       "\\item 'Bahrain'\n",
       "\\item 'Bahamas'\n",
       "\\item 'Azerbaijan'\n",
       "\\item 'Austria'\n",
       "\\item 'Australia'\n",
       "\\item 'Armenia'\n",
       "\\item 'Argentina'\n",
       "\\item 'Antigua and Barbuda'\n",
       "\\item 'Angola'\n",
       "\\item 'Andorra'\n",
       "\\item 'Algeria'\n",
       "\\item 'Albania'\n",
       "\\item 'Afghanistan'\n",
       "\\end{enumerate*}\n"
      ],
      "text/markdown": [
       "1. 'Zimbabwe'\n",
       "2. 'Zambia'\n",
       "3. 'Vietnam'\n",
       "4. 'Venezuela'\n",
       "5. 'Uzbekistan'\n",
       "6. 'Uruguay'\n",
       "7. 'United States'\n",
       "8. 'United Kingdom'\n",
       "9. 'United Arab Emirates'\n",
       "10. 'Ukraine'\n",
       "11. 'Uganda'\n",
       "12. 'Turkey'\n",
       "13. 'Tunisia'\n",
       "14. 'Trinidad and Tobago'\n",
       "15. 'Togo'\n",
       "16. 'Thailand'\n",
       "17. 'Tanzania'\n",
       "18. 'Taiwan[m]'\n",
       "19. 'Switzerland[l]'\n",
       "20. 'Sweden'\n",
       "21. 'Sudan'\n",
       "22. 'Sri Lanka'\n",
       "23. 'Spain'\n",
       "24. 'South Sudan'\n",
       "25. 'South Korea'\n",
       "26. 'South Africa'\n",
       "27. 'Slovenia'\n",
       "28. 'Slovakia'\n",
       "29. 'Singapore'\n",
       "30. 'Serbia'\n",
       "31. 'Senegal'\n",
       "32. 'Saudi Arabia'\n",
       "33. 'San Marino'\n",
       "34. 'Saint Vincent'\n",
       "35. 'Saint Lucia'\n",
       "36. 'Saint Kitts and Nevis'\n",
       "37. 'Rwanda'\n",
       "38. 'Russia'\n",
       "39. 'Romania'\n",
       "40. 'Qatar'\n",
       "41. 'Portugal'\n",
       "42. 'Poland'\n",
       "43. 'Philippines'\n",
       "44. 'Peru'\n",
       "45. 'Paraguay'\n",
       "46. 'Papua New Guinea'\n",
       "47. 'Panama'\n",
       "48. 'Palestine'\n",
       "49. 'Pakistan'\n",
       "50. 'Oman'\n",
       "51. 'Norway'\n",
       "52. 'Northern Cyprus[k]'\n",
       "53. 'North Macedonia'\n",
       "54. 'North Korea'\n",
       "55. 'Nigeria'\n",
       "56. 'Niger'\n",
       "57. 'New Zealand'\n",
       "58. 'New Caledonia'\n",
       "59. 'Netherlands'\n",
       "60. 'Nepal'\n",
       "61. 'Namibia'\n",
       "62. 'Myanmar'\n",
       "63. 'Mozambique'\n",
       "64. 'Morocco'\n",
       "65. 'Montenegro'\n",
       "66. 'Mongolia'\n",
       "67. 'Moldova[j]'\n",
       "68. 'Mexico'\n",
       "69. 'Mauritius'\n",
       "70. 'Mauritania'\n",
       "71. 'Malta'\n",
       "72. 'Mali'\n",
       "73. 'Maldives'\n",
       "74. 'Malaysia'\n",
       "75. 'Malawi'\n",
       "76. 'Madagascar'\n",
       "77. 'Luxembourg[i]'\n",
       "78. 'Lithuania'\n",
       "79. 'Libya'\n",
       "80. 'Liberia'\n",
       "81. 'Lesotho'\n",
       "82. 'Lebanon'\n",
       "83. 'Latvia'\n",
       "84. 'Laos'\n",
       "85. 'Kyrgyzstan'\n",
       "86. 'Kuwait'\n",
       "87. 'Kosovo'\n",
       "88. 'Kenya'\n",
       "89. 'Kazakhstan'\n",
       "90. 'Jordan'\n",
       "91. 'Japan'\n",
       "92. 'Jamaica'\n",
       "93. 'Ivory Coast'\n",
       "94. 'Italy'\n",
       "95. 'Israel'\n",
       "96. 'Ireland'\n",
       "97. 'Iraq'\n",
       "98. 'Iran'\n",
       "99. 'Indonesia'\n",
       "100. 'India'\n",
       "101. 'Iceland'\n",
       "102. 'Hungary'\n",
       "103. 'Honduras'\n",
       "104. 'Haiti'\n",
       "105. 'Guyana'\n",
       "106. 'Guinea-Bissau'\n",
       "107. 'Guinea'\n",
       "108. 'Guatemala'\n",
       "109. 'Grenada'\n",
       "110. 'Greenland'\n",
       "111. 'Greece'\n",
       "112. 'Ghana'\n",
       "113. 'Germany'\n",
       "114. 'Georgia[h]'\n",
       "115. 'Gambia'\n",
       "116. 'Gabon'\n",
       "117. 'France[f][g]'\n",
       "118. 'Finland'\n",
       "119. 'Fiji'\n",
       "120. 'Faroe Islands'\n",
       "121. 'Ethiopia'\n",
       "122. 'Eswatini'\n",
       "123. 'Estonia'\n",
       "124. 'Equatorial Guinea'\n",
       "125. 'El Salvador'\n",
       "126. 'Egypt'\n",
       "127. 'Ecuador'\n",
       "128. 'DR Congo'\n",
       "129. 'Dominican Republic'\n",
       "130. 'Dominica'\n",
       "131. 'Djibouti'\n",
       "132. 'Denmark[e]'\n",
       "133. 'Czechia'\n",
       "134. 'Cyprus[d]'\n",
       "135. 'Cuba'\n",
       "136. 'Croatia'\n",
       "137. 'Costa Rica'\n",
       "138. 'Colombia'\n",
       "139. 'China[c]'\n",
       "140. 'Chile'\n",
       "141. 'Chad'\n",
       "142. 'Canada'\n",
       "143. 'Cameroon'\n",
       "144. 'Cambodia'\n",
       "145. 'Burundi'\n",
       "146. 'Burkina Faso'\n",
       "147. 'Bulgaria'\n",
       "148. 'Brunei'\n",
       "149. 'Brazil'\n",
       "150. 'Botswana'\n",
       "151. 'Bosnia and Herzegovina'\n",
       "152. 'Bolivia'\n",
       "153. 'Bhutan'\n",
       "154. 'Benin'\n",
       "155. 'Belize'\n",
       "156. 'Belgium'\n",
       "157. 'Belarus'\n",
       "158. 'Barbados'\n",
       "159. 'Bangladesh'\n",
       "160. 'Bahrain'\n",
       "161. 'Bahamas'\n",
       "162. 'Azerbaijan'\n",
       "163. 'Austria'\n",
       "164. 'Australia'\n",
       "165. 'Armenia'\n",
       "166. 'Argentina'\n",
       "167. 'Antigua and Barbuda'\n",
       "168. 'Angola'\n",
       "169. 'Andorra'\n",
       "170. 'Algeria'\n",
       "171. 'Albania'\n",
       "172. 'Afghanistan'\n",
       "\n",
       "\n"
      ],
      "text/plain": [
       "  [1] \"Zimbabwe\"               \"Zambia\"                 \"Vietnam\"               \n",
       "  [4] \"Venezuela\"              \"Uzbekistan\"             \"Uruguay\"               \n",
       "  [7] \"United States\"          \"United Kingdom\"         \"United Arab Emirates\"  \n",
       " [10] \"Ukraine\"                \"Uganda\"                 \"Turkey\"                \n",
       " [13] \"Tunisia\"                \"Trinidad and Tobago\"    \"Togo\"                  \n",
       " [16] \"Thailand\"               \"Tanzania\"               \"Taiwan[m]\"             \n",
       " [19] \"Switzerland[l]\"         \"Sweden\"                 \"Sudan\"                 \n",
       " [22] \"Sri Lanka\"              \"Spain\"                  \"South Sudan\"           \n",
       " [25] \"South Korea\"            \"South Africa\"           \"Slovenia\"              \n",
       " [28] \"Slovakia\"               \"Singapore\"              \"Serbia\"                \n",
       " [31] \"Senegal\"                \"Saudi Arabia\"           \"San Marino\"            \n",
       " [34] \"Saint Vincent\"          \"Saint Lucia\"            \"Saint Kitts and Nevis\" \n",
       " [37] \"Rwanda\"                 \"Russia\"                 \"Romania\"               \n",
       " [40] \"Qatar\"                  \"Portugal\"               \"Poland\"                \n",
       " [43] \"Philippines\"            \"Peru\"                   \"Paraguay\"              \n",
       " [46] \"Papua New Guinea\"       \"Panama\"                 \"Palestine\"             \n",
       " [49] \"Pakistan\"               \"Oman\"                   \"Norway\"                \n",
       " [52] \"Northern Cyprus[k]\"     \"North Macedonia\"        \"North Korea\"           \n",
       " [55] \"Nigeria\"                \"Niger\"                  \"New Zealand\"           \n",
       " [58] \"New Caledonia\"          \"Netherlands\"            \"Nepal\"                 \n",
       " [61] \"Namibia\"                \"Myanmar\"                \"Mozambique\"            \n",
       " [64] \"Morocco\"                \"Montenegro\"             \"Mongolia\"              \n",
       " [67] \"Moldova[j]\"             \"Mexico\"                 \"Mauritius\"             \n",
       " [70] \"Mauritania\"             \"Malta\"                  \"Mali\"                  \n",
       " [73] \"Maldives\"               \"Malaysia\"               \"Malawi\"                \n",
       " [76] \"Madagascar\"             \"Luxembourg[i]\"          \"Lithuania\"             \n",
       " [79] \"Libya\"                  \"Liberia\"                \"Lesotho\"               \n",
       " [82] \"Lebanon\"                \"Latvia\"                 \"Laos\"                  \n",
       " [85] \"Kyrgyzstan\"             \"Kuwait\"                 \"Kosovo\"                \n",
       " [88] \"Kenya\"                  \"Kazakhstan\"             \"Jordan\"                \n",
       " [91] \"Japan\"                  \"Jamaica\"                \"Ivory Coast\"           \n",
       " [94] \"Italy\"                  \"Israel\"                 \"Ireland\"               \n",
       " [97] \"Iraq\"                   \"Iran\"                   \"Indonesia\"             \n",
       "[100] \"India\"                  \"Iceland\"                \"Hungary\"               \n",
       "[103] \"Honduras\"               \"Haiti\"                  \"Guyana\"                \n",
       "[106] \"Guinea-Bissau\"          \"Guinea\"                 \"Guatemala\"             \n",
       "[109] \"Grenada\"                \"Greenland\"              \"Greece\"                \n",
       "[112] \"Ghana\"                  \"Germany\"                \"Georgia[h]\"            \n",
       "[115] \"Gambia\"                 \"Gabon\"                  \"France[f][g]\"          \n",
       "[118] \"Finland\"                \"Fiji\"                   \"Faroe Islands\"         \n",
       "[121] \"Ethiopia\"               \"Eswatini\"               \"Estonia\"               \n",
       "[124] \"Equatorial Guinea\"      \"El Salvador\"            \"Egypt\"                 \n",
       "[127] \"Ecuador\"                \"DR Congo\"               \"Dominican Republic\"    \n",
       "[130] \"Dominica\"               \"Djibouti\"               \"Denmark[e]\"            \n",
       "[133] \"Czechia\"                \"Cyprus[d]\"              \"Cuba\"                  \n",
       "[136] \"Croatia\"                \"Costa Rica\"             \"Colombia\"              \n",
       "[139] \"China[c]\"               \"Chile\"                  \"Chad\"                  \n",
       "[142] \"Canada\"                 \"Cameroon\"               \"Cambodia\"              \n",
       "[145] \"Burundi\"                \"Burkina Faso\"           \"Bulgaria\"              \n",
       "[148] \"Brunei\"                 \"Brazil\"                 \"Botswana\"              \n",
       "[151] \"Bosnia and Herzegovina\" \"Bolivia\"                \"Bhutan\"                \n",
       "[154] \"Benin\"                  \"Belize\"                 \"Belgium\"               \n",
       "[157] \"Belarus\"                \"Barbados\"               \"Bangladesh\"            \n",
       "[160] \"Bahrain\"                \"Bahamas\"                \"Azerbaijan\"            \n",
       "[163] \"Austria\"                \"Australia\"              \"Armenia\"               \n",
       "[166] \"Argentina\"              \"Antigua and Barbuda\"    \"Angola\"                \n",
       "[169] \"Andorra\"                \"Algeria\"                \"Albania\"               \n",
       "[172] \"Afghanistan\"           "
      ]
     },
     "metadata": {},
     "output_type": "display_data"
    }
   ],
   "source": [
    "# Get the `country` column\n",
    "country_col <- covid_data_frame_csv[\"country\"]\n",
    "head(country_col)\n",
    "\n",
    "# Check its class (should be Factor)\n",
    "class(covid_data_frame_csv$country)\n",
    "\n",
    "# Conver the country column into character so that you can easily sort them\n",
    "country_col <- as.character(covid_data_frame_csv$country)\n",
    "class(country_col)\n",
    "\n",
    "# Sort the countries AtoZ\n",
    "country_col <- sort(country_col)\n",
    "\n",
    "# Sort the countries ZtoA\n",
    "country_col <- sort(country_col, decreasing = TRUE)\n",
    "\n",
    "# Print the sorted ZtoA list\n",
    "country_col"
   ]
  },
  {
   "cell_type": "markdown",
   "metadata": {},
   "source": [
    "## TASK 7: Identify countries names with a specific pattern\n",
    "\n",
    "The goal of task 7 is using a regular expression to find any countires start with `United`\n"
   ]
  },
  {
   "cell_type": "code",
   "execution_count": 99,
   "metadata": {},
   "outputs": [
    {
     "data": {
      "text/html": [
       "<ol class=list-inline>\n",
       "\t<li>7</li>\n",
       "\t<li>8</li>\n",
       "\t<li>9</li>\n",
       "</ol>\n"
      ],
      "text/latex": [
       "\\begin{enumerate*}\n",
       "\\item 7\n",
       "\\item 8\n",
       "\\item 9\n",
       "\\end{enumerate*}\n"
      ],
      "text/markdown": [
       "1. 7\n",
       "2. 8\n",
       "3. 9\n",
       "\n",
       "\n"
      ],
      "text/plain": [
       "[1] 7 8 9"
      ]
     },
     "metadata": {},
     "output_type": "display_data"
    },
    {
     "data": {
      "text/html": [
       "<ol class=list-inline>\n",
       "\t<li>'United States'</li>\n",
       "\t<li>'United Kingdom'</li>\n",
       "\t<li>'United Arab Emirates'</li>\n",
       "</ol>\n"
      ],
      "text/latex": [
       "\\begin{enumerate*}\n",
       "\\item 'United States'\n",
       "\\item 'United Kingdom'\n",
       "\\item 'United Arab Emirates'\n",
       "\\end{enumerate*}\n"
      ],
      "text/markdown": [
       "1. 'United States'\n",
       "2. 'United Kingdom'\n",
       "3. 'United Arab Emirates'\n",
       "\n",
       "\n"
      ],
      "text/plain": [
       "[1] \"United States\"        \"United Kingdom\"       \"United Arab Emirates\""
      ]
     },
     "metadata": {},
     "output_type": "display_data"
    }
   ],
   "source": [
    "# Use a regular expression `United.+` to find matches\n",
    "grep(\"United.+\", country_col)\n",
    "\n",
    "# Print the matched country names\n",
    "grep(\"United.+\", country_col, value = TRUE)"
   ]
  },
  {
   "cell_type": "markdown",
   "metadata": {},
   "source": [
    "## TASK 8: Pick two countries you are interested, and then review their testing data\n",
    "\n",
    "The goal of task 8 is to compare the COVID-19 test data between two countires, you will need to select two rows from the dataframe, and select `country`, `confirmed`, `confirmed-population-ratio` columns\n"
   ]
  },
  {
   "cell_type": "code",
   "execution_count": 128,
   "metadata": {},
   "outputs": [
    {
     "data": {
      "text/html": [
       "<table>\n",
       "<thead><tr><th></th><th scope=col>country</th><th scope=col>confirmed</th><th scope=col>confirmed.population.ratio</th></tr></thead>\n",
       "<tbody>\n",
       "\t<tr><th scope=row>99</th><td>Malaysia</td><td>1880734 </td><td>5.7     </td></tr>\n",
       "</tbody>\n",
       "</table>\n"
      ],
      "text/latex": [
       "\\begin{tabular}{r|lll}\n",
       "  & country & confirmed & confirmed.population.ratio\\\\\n",
       "\\hline\n",
       "\t99 & Malaysia & 1880734  & 5.7     \\\\\n",
       "\\end{tabular}\n"
      ],
      "text/markdown": [
       "\n",
       "| <!--/--> | country | confirmed | confirmed.population.ratio |\n",
       "|---|---|---|---|\n",
       "| 99 | Malaysia | 1880734  | 5.7      |\n",
       "\n"
      ],
      "text/plain": [
       "   country  confirmed confirmed.population.ratio\n",
       "99 Malaysia 1880734   5.7                       "
      ]
     },
     "metadata": {},
     "output_type": "display_data"
    },
    {
     "data": {
      "text/html": [
       "<table>\n",
       "<thead><tr><th></th><th scope=col>country</th><th scope=col>confirmed</th><th scope=col>confirmed.population.ratio</th></tr></thead>\n",
       "<tbody>\n",
       "\t<tr><th scope=row>122</th><td>Norway</td><td>235307</td><td>4.4   </td></tr>\n",
       "</tbody>\n",
       "</table>\n"
      ],
      "text/latex": [
       "\\begin{tabular}{r|lll}\n",
       "  & country & confirmed & confirmed.population.ratio\\\\\n",
       "\\hline\n",
       "\t122 & Norway & 235307 & 4.4   \\\\\n",
       "\\end{tabular}\n"
      ],
      "text/markdown": [
       "\n",
       "| <!--/--> | country | confirmed | confirmed.population.ratio |\n",
       "|---|---|---|---|\n",
       "| 122 | Norway | 235307 | 4.4    |\n",
       "\n"
      ],
      "text/plain": [
       "    country confirmed confirmed.population.ratio\n",
       "122 Norway  235307    4.4                       "
      ]
     },
     "metadata": {},
     "output_type": "display_data"
    }
   ],
   "source": [
    "# Select a subset (should be only one row) of data frame based on a selected country name and columns\n",
    "country_1 <- covid_data_frame_csv[\"country\"] == \"Malaysia\"\n",
    "malaysia <- covid_data_frame_csv[country_1, c(\"country\",\"confirmed\", \"confirmed.population.ratio\")]\n",
    "malaysia\n",
    "\n",
    "# Select a subset (should be only one row) of data frame based on a selected country name and columns\n",
    "country_2 <- covid_data_frame_csv[\"country\"] == \"Norway\"\n",
    "norway <- covid_data_frame_csv[country_2, c(\"country\",\"confirmed\", \"confirmed.population.ratio\")]\n",
    "norway"
   ]
  },
  {
   "cell_type": "markdown",
   "metadata": {},
   "source": [
    "## TASK 9: Compare which one of the selected countries has a larger ratio of confirmed cases to population\n",
    "\n",
    "The goal of task 9 is to find out which country you have selected before has larger ratio of confirmed cases to population, which may indicate that country has higher COVID-19 infection risk\n"
   ]
  },
  {
   "cell_type": "code",
   "execution_count": 134,
   "metadata": {},
   "outputs": [
    {
     "data": {
      "text/html": [
       "<table>\n",
       "<thead><tr><th></th><th scope=col>country</th><th scope=col>confirmed</th><th scope=col>confirmed.population.ratio</th></tr></thead>\n",
       "<tbody>\n",
       "\t<tr><th scope=row>99</th><td>Malaysia</td><td>1880734 </td><td>5.7     </td></tr>\n",
       "\t<tr><th scope=row>122</th><td>Norway  </td><td> 235307 </td><td>4.4     </td></tr>\n",
       "</tbody>\n",
       "</table>\n"
      ],
      "text/latex": [
       "\\begin{tabular}{r|lll}\n",
       "  & country & confirmed & confirmed.population.ratio\\\\\n",
       "\\hline\n",
       "\t99 & Malaysia & 1880734  & 5.7     \\\\\n",
       "\t122 & Norway   &  235307  & 4.4     \\\\\n",
       "\\end{tabular}\n"
      ],
      "text/markdown": [
       "\n",
       "| <!--/--> | country | confirmed | confirmed.population.ratio |\n",
       "|---|---|---|---|\n",
       "| 99 | Malaysia | 1880734  | 5.7      |\n",
       "| 122 | Norway   |  235307  | 4.4      |\n",
       "\n"
      ],
      "text/plain": [
       "    country  confirmed confirmed.population.ratio\n",
       "99  Malaysia 1880734   5.7                       \n",
       "122 Norway    235307   4.4                       "
      ]
     },
     "metadata": {},
     "output_type": "display_data"
    }
   ],
   "source": [
    "country_3 <- covid_data_frame_csv[\"country\"] == c(\"Malaysia\",\"Norway\")\n",
    "combined <- covid_data_frame_csv[country_3, c(\"country\",\"confirmed\", \"confirmed.population.ratio\")]\n",
    "combined"
   ]
  },
  {
   "cell_type": "code",
   "execution_count": 158,
   "metadata": {},
   "outputs": [],
   "source": [
    "x <- combined[\"country\"] == \"Malaysia\"\n",
    "y <- combined[\"country\"] == \"Norway\""
   ]
  },
  {
   "cell_type": "code",
   "execution_count": 159,
   "metadata": {},
   "outputs": [
    {
     "name": "stdout",
     "output_type": "stream",
     "text": [
      "[1] \"Malaysia has higher COVID-19 infection risk than Norway\"\n"
     ]
    }
   ],
   "source": [
    "# Use if-else statement\n",
    "# if (check which confirmed.population value is greater) {\n",
    "#    print()\n",
    "# } else {\n",
    "#    print()\n",
    "# }\n",
    "if (combined[x, c(\"confirmed.population.ratio\")] > combined[y, c(\"confirmed.population.ratio\")]) {\n",
    "    print (\"Malaysia has higher COVID-19 infection risk than Norway\")\n",
    "} else {\n",
    "    print(\"Norway has higher COVID-19 infection risk than Malaysia\")\n",
    "}\n",
    "    "
   ]
  },
  {
   "cell_type": "markdown",
   "metadata": {},
   "source": [
    "## TASK 10: Find countries with confirmed to population ratio rate less than a threshold\n",
    "\n",
    "The goal of task 10 is to find out which countries have the confirmed to population ratio less than 1%, it may indicate the risk of those countries are relatively low\n"
   ]
  },
  {
   "cell_type": "code",
   "execution_count": 263,
   "metadata": {},
   "outputs": [
    {
     "data": {
      "text/html": [
       "<table>\n",
       "<thead><tr><th></th><th scope=col>country</th><th scope=col>confirmed.population.ratio</th></tr></thead>\n",
       "<tbody>\n",
       "\t<tr><th scope=row>28</th><td>Burundi    </td><td>0.00740    </td></tr>\n",
       "\t<tr><th scope=row>34</th><td>China[c]   </td><td>0.00610    </td></tr>\n",
       "\t<tr><th scope=row>89</th><td>Laos       </td><td>0.00063    </td></tr>\n",
       "\t<tr><th scope=row>119</th><td>North Korea</td><td>0.00000    </td></tr>\n",
       "\t<tr><th scope=row>156</th><td>Tanzania   </td><td>0.00085    </td></tr>\n",
       "</tbody>\n",
       "</table>\n"
      ],
      "text/latex": [
       "\\begin{tabular}{r|ll}\n",
       "  & country & confirmed.population.ratio\\\\\n",
       "\\hline\n",
       "\t28 & Burundi     & 0.00740    \\\\\n",
       "\t34 & China{[}c{]}    & 0.00610        \\\\\n",
       "\t89 & Laos        & 0.00063    \\\\\n",
       "\t119 & North Korea & 0.00000    \\\\\n",
       "\t156 & Tanzania    & 0.00085    \\\\\n",
       "\\end{tabular}\n"
      ],
      "text/markdown": [
       "\n",
       "| <!--/--> | country | confirmed.population.ratio |\n",
       "|---|---|---|\n",
       "| 28 | Burundi     | 0.00740     |\n",
       "| 34 | China[c]    | 0.00610     |\n",
       "| 89 | Laos        | 0.00063     |\n",
       "| 119 | North Korea | 0.00000     |\n",
       "| 156 | Tanzania    | 0.00085     |\n",
       "\n"
      ],
      "text/plain": [
       "    country     confirmed.population.ratio\n",
       "28  Burundi     0.00740                   \n",
       "34  China[c]    0.00610                   \n",
       "89  Laos        0.00063                   \n",
       "119 North Korea 0.00000                   \n",
       "156 Tanzania    0.00085                   "
      ]
     },
     "metadata": {},
     "output_type": "display_data"
    }
   ],
   "source": [
    "#Solution 1\n",
    "LowCPR <- covid_data_frame_csv[\"confirmed.population.ratio\"] < 0.01\n",
    "LowCPR_Yes <- covid_data_frame_csv[hai, c(\"country\",\"confirmed.population.ratio\")]\n",
    "LowCPR_Yes"
   ]
  },
  {
   "cell_type": "code",
   "execution_count": 259,
   "metadata": {},
   "outputs": [],
   "source": [
    "#Solution 2\n",
    "\n",
    "# Get a subset of any countries with `confirmed.population.ratio` less than the threshold\n",
    "z <- function(data, isLowerCPR, threshold = 0.01){\n",
    "    isLowerCPR <- data[\"confirmed.population.ratio\"] < threshold\n",
    "    return(data[isLowerCPR, c(\"country\",\"confirmed.population.ratio\")])\n",
    "}"
   ]
  },
  {
   "cell_type": "code",
   "execution_count": 262,
   "metadata": {},
   "outputs": [
    {
     "data": {
      "text/html": [
       "<table>\n",
       "<thead><tr><th></th><th scope=col>country</th><th scope=col>confirmed.population.ratio</th></tr></thead>\n",
       "<tbody>\n",
       "\t<tr><th scope=row>28</th><td>Burundi    </td><td>0.00740    </td></tr>\n",
       "\t<tr><th scope=row>34</th><td>China[c]   </td><td>0.00610    </td></tr>\n",
       "\t<tr><th scope=row>89</th><td>Laos       </td><td>0.00063    </td></tr>\n",
       "\t<tr><th scope=row>119</th><td>North Korea</td><td>0.00000    </td></tr>\n",
       "\t<tr><th scope=row>156</th><td>Tanzania   </td><td>0.00085    </td></tr>\n",
       "</tbody>\n",
       "</table>\n"
      ],
      "text/latex": [
       "\\begin{tabular}{r|ll}\n",
       "  & country & confirmed.population.ratio\\\\\n",
       "\\hline\n",
       "\t28 & Burundi     & 0.00740    \\\\\n",
       "\t34 & China{[}c{]}    & 0.00610        \\\\\n",
       "\t89 & Laos        & 0.00063    \\\\\n",
       "\t119 & North Korea & 0.00000    \\\\\n",
       "\t156 & Tanzania    & 0.00085    \\\\\n",
       "\\end{tabular}\n"
      ],
      "text/markdown": [
       "\n",
       "| <!--/--> | country | confirmed.population.ratio |\n",
       "|---|---|---|\n",
       "| 28 | Burundi     | 0.00740     |\n",
       "| 34 | China[c]    | 0.00610     |\n",
       "| 89 | Laos        | 0.00063     |\n",
       "| 119 | North Korea | 0.00000     |\n",
       "| 156 | Tanzania    | 0.00085     |\n",
       "\n"
      ],
      "text/plain": [
       "    country     confirmed.population.ratio\n",
       "28  Burundi     0.00740                   \n",
       "34  China[c]    0.00610                   \n",
       "89  Laos        0.00063                   \n",
       "119 North Korea 0.00000                   \n",
       "156 Tanzania    0.00085                   "
      ]
     },
     "metadata": {},
     "output_type": "display_data"
    }
   ],
   "source": [
    "z(covid_data_frame_csv)"
   ]
  }
 ],
 "metadata": {
  "kernelspec": {
   "display_name": "R",
   "language": "R",
   "name": "ir"
  },
  "language_info": {
   "codemirror_mode": "r",
   "file_extension": ".r",
   "mimetype": "text/x-r-source",
   "name": "R",
   "pygments_lexer": "r",
   "version": "3.6.1"
  }
 },
 "nbformat": 4,
 "nbformat_minor": 4
}
